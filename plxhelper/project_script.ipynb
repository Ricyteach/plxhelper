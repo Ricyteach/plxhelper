{
 "cells": [
  {
   "attachments": {},
   "cell_type": "markdown",
   "id": "b9bd1d15",
   "metadata": {},
   "source": [
    "# Single Pipe Reline FEA: Plaxis 3D"
   ]
  },
  {
   "cell_type": "code",
   "execution_count": 1,
   "id": "08593263",
   "metadata": {
    "scrolled": true
   },
   "outputs": [],
   "source": [
    "# import modules\n",
    "import plxhelper.single_pipe_reline_task as single_pipe_reline\n",
    "import pandas as pd\n",
    "\n",
    "pd.options.mode.chained_assignment = None  # default='warn'"
   ]
  },
  {
   "attachments": {},
   "cell_type": "markdown",
   "id": "b20667d4",
   "metadata": {},
   "source": [
    "## Specify Parameters"
   ]
  },
  {
   "cell_type": "code",
   "execution_count": 2,
   "id": "cfd2e67c",
   "metadata": {},
   "outputs": [],
   "source": [
    "# in-situ soil parameters and geometry\n",
    "γ_soil_pci = (γ_soil := 125 # pcf\n",
    "             )/1728\n",
    "Ms_psi = 1000 # psi\n",
    "h_cover_in = (h_cover := 15 # ft\n",
    "             )*12\n",
    "h_bedding_in = (h_bedding := h_cover/3 # ft\n",
    "             )*12\n",
    "\n",
    "# liner pipe geometry\n",
    "h_ID_in = 44 # in\n",
    "w_ID_in = 67 # in\n",
    "t_in = 1.339 # in\n",
    "h_OD_in = h_ID_in + 2*t_in\n",
    "w_OD_in = h_OD_in + 2*t_in\n",
    "h_AVG_in = h_ID_in + t_in\n",
    "w_AVG_in = h_OD_in + t_in\n",
    "\n",
    "# depth from structure crown to springline\n",
    "d_springline_in = h_OD_in - (327.15 # mm\n",
    "                  /25.4)\n",
    "# height of soil from grade to springline\n",
    "h_springline_in = h_cover_in + d_springline_in\n",
    "\n",
    "# modeled extents\n",
    "grade_el = h_cover_in + h_AVG_in\n",
    "water_el = grade_el\n",
    "h_model_in = h_cover_in + h_AVG_in + h_bedding_in\n",
    "xmin, ymin, xmax, ymax = (-w_AVG_in*3, -180, w_AVG_in*3, 180)"
   ]
  },
  {
   "attachments": {},
   "cell_type": "markdown",
   "id": "0be2b595",
   "metadata": {},
   "source": [
    "## Interpolate Hardening Soil Model parameters for given soil type and Ms value"
   ]
  },
  {
   "cell_type": "code",
   "execution_count": 3,
   "id": "d318a5e3",
   "metadata": {},
   "outputs": [
    {
     "name": "stdout",
     "output_type": "stream",
     "text": [
      "15.47 psi\n"
     ]
    }
   ],
   "source": [
    "# Springline overburden pressure\n",
    "print(f\"{(σ_z_psi := γ_soil_pci * h_springline_in):.2f} psi\")\n",
    "\n",
    "# Type of soil\n",
    "backfill_soil_type = (\"duncan_selig_interpolated\", \"SW\",  # well graded sand\n",
    "                      Ms_psi, σ_z_psi)"
   ]
  },
  {
   "attachments": {},
   "cell_type": "markdown",
   "id": "ea409170",
   "metadata": {},
   "source": [
    "## Soil Model for Annular Fill"
   ]
  },
  {
   "cell_type": "code",
   "execution_count": 4,
   "id": "b232221d",
   "metadata": {
    "scrolled": true
   },
   "outputs": [],
   "source": [
    "annular_fill_type = (\"linear_elastic_soil\", \"Grout\", 40  # pcf\n",
    "                     )"
   ]
  },
  {
   "attachments": {},
   "cell_type": "markdown",
   "id": "352cf2f2",
   "metadata": {},
   "source": [
    "## Add soil models, soil layer materials, boreholes"
   ]
  },
  {
   "cell_type": "code",
   "execution_count": 5,
   "id": "3572b185",
   "metadata": {},
   "outputs": [],
   "source": [
    "soil_layer_materials_list = [backfill_soil_type]\n",
    "boreholes_dict = {\n",
    "    (0,0): dict(layers = [h_model_in], top_el = grade_el, water_table_el = water_el),\n",
    "}"
   ]
  },
  {
   "attachments": {},
   "cell_type": "markdown",
   "id": "31b11416",
   "metadata": {},
   "source": [
    "## Add Live Load Patches: HL-93 Truck and Tandem"
   ]
  },
  {
   "cell_type": "code",
   "execution_count": 6,
   "id": "c41e4c13",
   "metadata": {},
   "outputs": [],
   "source": [
    "# position of live load: center of model, top of grade\n",
    "xyz_live_load = (0, 0, grade_el)\n",
    "\n",
    "# list of live loads to be investigated\n",
    "live_load_list = [\"HL93 Tandem Axle\", \n",
    "                  \"HL93 Truck Axle\",\n",
    "                  ]"
   ]
  },
  {
   "attachments": {},
   "cell_type": "markdown",
   "id": "2f6ce172",
   "metadata": {},
   "source": [
    "## Add Lane Load"
   ]
  },
  {
   "cell_type": "code",
   "execution_count": 7,
   "id": "c307fe60",
   "metadata": {},
   "outputs": [],
   "source": [
    "lane_load = \"AASHTO Lane Load\""
   ]
  },
  {
   "attachments": {},
   "cell_type": "markdown",
   "id": "2c930193",
   "metadata": {},
   "source": [
    "## Specify and set up parent pipe"
   ]
  },
  {
   "cell_type": "code",
   "execution_count": 8,
   "id": "c3d4ae0a",
   "metadata": {},
   "outputs": [],
   "source": [
    "h_parent = 61  # in\n",
    "\n",
    "parent_shape_info_dict = dict(\n",
    "    segments = [\n",
    "        dict(SegmentType = \"Arc\",\n",
    "             RelativeStartAngle1 = 180,  # deg; 180 because starting at crown\n",
    "             Radius = 42.125,  # in\n",
    "             CentralAngle = 84.95,  # deg\n",
    "            ),\n",
    "        dict(SegmentType = \"Arc\",\n",
    "             Radius = 17.625,  # in\n",
    "             CentralAngle = 78.70,  # deg\n",
    "            ),\n",
    "        dict(SegmentType = \"SymmetricExtend\",\n",
    "            ),\n",
    "        dict(SegmentType = \"SymmetricClose\",\n",
    "            ),\n",
    "    ])"
   ]
  },
  {
   "attachments": {},
   "cell_type": "markdown",
   "id": "1975b0b0",
   "metadata": {},
   "source": [
    "## Specify and set up reline pipe"
   ]
  },
  {
   "cell_type": "code",
   "execution_count": 9,
   "id": "a37ae672",
   "metadata": {},
   "outputs": [],
   "source": [
    "short_term_reline_type = \"plate\", \"GRPLinerPipe\", \"34mm\", \"Short\"\n",
    "long_term_reline_type = \"plate\", \"GRPLinerPipe\", \"34mm\", \"Long\"\n",
    "\n",
    "# draw shape starting at crown z elevation\n",
    "reline_shape_info_dict = dict(\n",
    "    segments = [\n",
    "        dict(SegmentType = \"Arc\",\n",
    "             RelativeStartAngle1 = 180,  # deg; 180 because starting at crown\n",
    "             Radius = 33.5 + t_in/2,  # in\n",
    "             CentralAngle = 85.2,  # deg\n",
    "            ),\n",
    "        dict(SegmentType = \"Arc\",\n",
    "             Radius = 8.875 + t_in/2,  # in\n",
    "             CentralAngle = 78.3,  # deg\n",
    "            ),\n",
    "        dict(SegmentType = \"SymmetricExtend\",\n",
    "            ),\n",
    "        dict(SegmentType = \"SymmetricClose\",\n",
    "            ),\n",
    "    ])"
   ]
  },
  {
   "attachments": {},
   "cell_type": "markdown",
   "id": "dcc83465",
   "metadata": {},
   "source": [
    "## Run Single Pipe Reline Routine"
   ]
  },
  {
   "cell_type": "code",
   "execution_count": 10,
   "id": "95f71fbf",
   "metadata": {},
   "outputs": [],
   "source": [
    "tc = single_pipe_reline.task_chain(xmin, ymin, xmax, ymax, grade_el, h_cover_in, h_parent, h_AVG_in, xyz_live_load, lane_load, \n",
    "                             parent_shape_info_dict, reline_shape_info_dict, boreholes_dict, \n",
    "                             annular_fill_type, soil_layer_materials_list, \n",
    "                             short_term_reline_type, long_term_reline_type)"
   ]
  },
  {
   "cell_type": "code",
   "execution_count": 11,
   "id": "695b7d60",
   "metadata": {},
   "outputs": [
    {
     "name": "stdout",
     "output_type": "stream",
     "text": [
      "None\n",
      "None\n",
      "None\n",
      "None\n",
      "z_parent_crown = 53.1695\n",
      "z_reline_crown) = 45.339\n",
      "None\n"
     ]
    }
   ],
   "source": [
    "for t in tc.mesh_project[:-1]():\n",
    "    print(t)"
   ]
  }
 ],
 "metadata": {
  "kernelspec": {
   "display_name": "plxhelper",
   "language": "python",
   "name": "python3"
  },
  "language_info": {
   "codemirror_mode": {
    "name": "ipython",
    "version": 3
   },
   "file_extension": ".py",
   "mimetype": "text/x-python",
   "name": "python",
   "nbconvert_exporter": "python",
   "pygments_lexer": "ipython3",
   "version": "3.11.3"
  },
  "toc": {
   "base_numbering": 1,
   "nav_menu": {},
   "number_sections": false,
   "sideBar": true,
   "skip_h1_title": false,
   "title_cell": "Table of Contents",
   "title_sidebar": "Contents",
   "toc_cell": false,
   "toc_position": {
    "height": "calc(100% - 180px)",
    "left": "10px",
    "top": "150px",
    "width": "165px"
   },
   "toc_section_display": true,
   "toc_window_display": false
  }
 },
 "nbformat": 4,
 "nbformat_minor": 5
}
